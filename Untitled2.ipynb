{
 "cells": [
  {
   "cell_type": "code",
   "execution_count": 3,
   "id": "dd882c6a-8b0c-414a-9d2b-55f61e9d76e5",
   "metadata": {},
   "outputs": [],
   "source": [
    "import tensorflow as tf\n",
    "import numpy as np\n",
    "\n",
    "c = np.array([[3.,4], [5.,6], [6.,7]])\n",
    "step = tf.reduce_mean(c, 1)                                                                                 "
   ]
  },
  {
   "cell_type": "code",
   "execution_count": null,
   "id": "4158d4cc-bab0-44c3-9b6e-176f0218e963",
   "metadata": {},
   "outputs": [],
   "source": []
  }
 ],
 "metadata": {
  "kernelspec": {
   "display_name": "Python 3 (ipykernel)",
   "language": "python",
   "name": "python3"
  },
  "language_info": {
   "codemirror_mode": {
    "name": "ipython",
    "version": 3
   },
   "file_extension": ".py",
   "mimetype": "text/x-python",
   "name": "python",
   "nbconvert_exporter": "python",
   "pygments_lexer": "ipython3",
   "version": "3.11.7"
  }
 },
 "nbformat": 4,
 "nbformat_minor": 5
}
